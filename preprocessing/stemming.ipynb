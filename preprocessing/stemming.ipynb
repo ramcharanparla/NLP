{
 "cells": [
  {
   "cell_type": "markdown",
   "id": "704b3426-9ec5-4f81-939b-656215c7f669",
   "metadata": {},
   "source": [
    "Stemming\n",
    "\n",
    "stemming is the process of reducing a word to its word stem that affixes to suffixes and prefixes or to the roots of words known as a lemma. Stemmaing is important in natural language understanding (NLU) and natural language processing(NLP)"
   ]
  },
  {
   "cell_type": "code",
   "execution_count": 6,
   "id": "3a264173-a18d-42f0-8a50-f189afaa5972",
   "metadata": {},
   "outputs": [],
   "source": [
    "# classification problem\n",
    "# comments on products is a positive review or negative review\n",
    "# reviews --> eating, eat, eaten\n",
    "\n",
    "words = [\"playing\", \"played\", \"plays\", \"runner\", \"running\", \"runs\", \"studying\", \"studied\", \"studies\", \"writes\", \"writing\", \"wrote\", \"cars\", \"car\", \"boxes\", \"box\", \"cities\", \"city\", \"child\", \"children\", \"dogs\", \"dog\", \"happier\", \"happiest\", \"happy\", \"stronger\", \"strongest\", \"strong\", \"beautiful\", \"beautify\", \"organization\", \"organize\", \"organizing\", \"quickly\", \"quick\", \"criticized\", \"criticize\", \"criticizing\", \"amazing\", \"amazingly\"]"
   ]
  },
  {
   "cell_type": "markdown",
   "id": "f83f13eb-fdd6-44b2-aadb-31f4c14977c7",
   "metadata": {},
   "source": [
    "### Porter Stemmer"
   ]
  },
  {
   "cell_type": "code",
   "execution_count": 9,
   "id": "c24f0ffb-15e4-4619-ae4b-6db2778d4786",
   "metadata": {},
   "outputs": [],
   "source": [
    "from nltk.stem import PorterStemmer"
   ]
  },
  {
   "cell_type": "code",
   "execution_count": 17,
   "id": "0c71ea90-08c3-4b45-966b-3a8a4de9bb21",
   "metadata": {},
   "outputs": [],
   "source": [
    "stemming = PorterStemmer()"
   ]
  },
  {
   "cell_type": "code",
   "execution_count": 22,
   "id": "2945b6e1-31cf-4856-9e63-ccb2be662ed2",
   "metadata": {},
   "outputs": [
    {
     "name": "stdout",
     "output_type": "stream",
     "text": [
      "playing--->play\n",
      "played--->play\n",
      "plays--->play\n",
      "runner--->runner\n",
      "running--->run\n",
      "runs--->run\n",
      "studying--->studi\n",
      "studied--->studi\n",
      "studies--->studi\n",
      "writes--->write\n",
      "writing--->write\n",
      "wrote--->wrote\n",
      "cars--->car\n",
      "car--->car\n",
      "boxes--->box\n",
      "box--->box\n",
      "cities--->citi\n",
      "city--->citi\n",
      "child--->child\n",
      "children--->children\n",
      "dogs--->dog\n",
      "dog--->dog\n",
      "happier--->happier\n",
      "happiest--->happiest\n",
      "happy--->happi\n",
      "stronger--->stronger\n",
      "strongest--->strongest\n",
      "strong--->strong\n",
      "beautiful--->beauti\n",
      "beautify--->beautifi\n",
      "organization--->organ\n",
      "organize--->organ\n",
      "organizing--->organ\n",
      "quickly--->quickli\n",
      "quick--->quick\n",
      "criticized--->critic\n",
      "criticize--->critic\n",
      "criticizing--->critic\n",
      "amazing--->amaz\n",
      "amazingly--->amazingli\n"
     ]
    }
   ],
   "source": [
    "for word in words:\n",
    "    print(word+\"--->\"+stemming.stem(word))"
   ]
  },
  {
   "cell_type": "markdown",
   "id": "ca9bc167-a482-4224-b60d-7bab00f79c65",
   "metadata": {},
   "source": [
    "### RegexpStemmer class\n",
    "\n",
    "NLTK has RegexpStemmer class with the help of which we can easily implement Regular Expression Stemmer algorithms. It basically takes a single regular expression and removes any prefix or suffix that matches the expression. Let us see and example"
   ]
  },
  {
   "cell_type": "code",
   "execution_count": 26,
   "id": "ce5d25c5-bde0-415b-9a24-d14205c951e8",
   "metadata": {},
   "outputs": [],
   "source": [
    "from nltk.stem import RegexpStemmer"
   ]
  },
  {
   "cell_type": "code",
   "execution_count": 28,
   "id": "6c6b9c20-1ded-4396-90e9-f4f5dbe8cb23",
   "metadata": {},
   "outputs": [
    {
     "ename": "TypeError",
     "evalue": "RegexpStemmer.__init__() missing 1 required positional argument: 'regexp'",
     "output_type": "error",
     "traceback": [
      "\u001b[1;31m---------------------------------------------------------------------------\u001b[0m",
      "\u001b[1;31mTypeError\u001b[0m                                 Traceback (most recent call last)",
      "Cell \u001b[1;32mIn[28], line 1\u001b[0m\n\u001b[1;32m----> 1\u001b[0m reg_stemmer \u001b[38;5;241m=\u001b[39m RegexpStemmer()\n",
      "\u001b[1;31mTypeError\u001b[0m: RegexpStemmer.__init__() missing 1 required positional argument: 'regexp'"
     ]
    }
   ],
   "source": [
    "reg_stemmer = RegexpStemmer()"
   ]
  },
  {
   "cell_type": "code",
   "execution_count": null,
   "id": "dc1e0294-ce7a-45a8-9f51-917e7edc0a9a",
   "metadata": {},
   "outputs": [],
   "source": []
  },
  {
   "cell_type": "markdown",
   "id": "a62454ac-d4b0-4a56-9214-7e8e30640d4f",
   "metadata": {},
   "source": [
    "### Snowball Stemmer"
   ]
  },
  {
   "cell_type": "code",
   "execution_count": 31,
   "id": "fae4d76a-974f-4f47-8447-e9f6a986679d",
   "metadata": {},
   "outputs": [],
   "source": [
    "from nltk.stem import SnowballStemmer"
   ]
  },
  {
   "cell_type": "code",
   "execution_count": 37,
   "id": "344621c6-d142-4afc-98dc-fb525fd6ea8c",
   "metadata": {},
   "outputs": [],
   "source": [
    "snowball_stemmer = SnowballStemmer('english')"
   ]
  },
  {
   "cell_type": "code",
   "execution_count": 39,
   "id": "7f9608e1-38f6-4d65-9cf0-1e0b47c8846f",
   "metadata": {},
   "outputs": [
    {
     "name": "stdout",
     "output_type": "stream",
     "text": [
      "playing--->play\n",
      "played--->play\n",
      "plays--->play\n",
      "runner--->runner\n",
      "running--->run\n",
      "runs--->run\n",
      "studying--->studi\n",
      "studied--->studi\n",
      "studies--->studi\n",
      "writes--->write\n",
      "writing--->write\n",
      "wrote--->wrote\n",
      "cars--->car\n",
      "car--->car\n",
      "boxes--->box\n",
      "box--->box\n",
      "cities--->citi\n",
      "city--->citi\n",
      "child--->child\n",
      "children--->children\n",
      "dogs--->dog\n",
      "dog--->dog\n",
      "happier--->happier\n",
      "happiest--->happiest\n",
      "happy--->happi\n",
      "stronger--->stronger\n",
      "strongest--->strongest\n",
      "strong--->strong\n",
      "beautiful--->beauti\n",
      "beautify--->beautifi\n",
      "organization--->organ\n",
      "organize--->organ\n",
      "organizing--->organ\n",
      "quickly--->quick\n",
      "quick--->quick\n",
      "criticized--->critic\n",
      "criticize--->critic\n",
      "criticizing--->critic\n",
      "amazing--->amaz\n",
      "amazingly--->amaz\n"
     ]
    }
   ],
   "source": [
    "for word in words:\n",
    "    print(word+\"--->\"+snowball_stemmer.stem(word))"
   ]
  },
  {
   "cell_type": "code",
   "execution_count": null,
   "id": "732b89c5-b062-43f6-b80a-a366fe20fec7",
   "metadata": {},
   "outputs": [],
   "source": []
  },
  {
   "cell_type": "code",
   "execution_count": 42,
   "id": "fbd31cd2-c320-4b0e-a225-5eecc136b9c8",
   "metadata": {},
   "outputs": [
    {
     "data": {
      "text/plain": [
       "('fairli', 'sportingli')"
      ]
     },
     "execution_count": 42,
     "metadata": {},
     "output_type": "execute_result"
    }
   ],
   "source": [
    "stemming.stem(\"fairly\"), stemming.stem(\"sportingly\")"
   ]
  },
  {
   "cell_type": "code",
   "execution_count": 44,
   "id": "333d04d3-5920-4473-b081-b06bc592be26",
   "metadata": {},
   "outputs": [
    {
     "data": {
      "text/plain": [
       "('fair', 'sport')"
      ]
     },
     "execution_count": 44,
     "metadata": {},
     "output_type": "execute_result"
    }
   ],
   "source": [
    "snowball_stemmer.stem(\"fairly\"), snowball_stemmer.stem(\"sportingly\")"
   ]
  },
  {
   "cell_type": "code",
   "execution_count": null,
   "id": "9b99608f-4dff-4220-890c-a9cfbfd12407",
   "metadata": {},
   "outputs": [],
   "source": []
  }
 ],
 "metadata": {
  "kernelspec": {
   "display_name": "Python 3 (ipykernel)",
   "language": "python",
   "name": "python3"
  },
  "language_info": {
   "codemirror_mode": {
    "name": "ipython",
    "version": 3
   },
   "file_extension": ".py",
   "mimetype": "text/x-python",
   "name": "python",
   "nbconvert_exporter": "python",
   "pygments_lexer": "ipython3",
   "version": "3.12.7"
  }
 },
 "nbformat": 4,
 "nbformat_minor": 5
}
