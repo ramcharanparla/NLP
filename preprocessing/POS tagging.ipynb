{
 "cells": [
  {
   "cell_type": "markdown",
   "id": "053794bc-a949-471f-8808-86e7aceec8b1",
   "metadata": {},
   "source": [
    "Tag\tMeaning\tExample\n",
    "CC\tCoordinating conjunction\tand, but, or\n",
    "CD\tCardinal number\tone, two, 100\n",
    "DT\tDeterminer\tthe, a, an\n",
    "EX\tExistential there\tthere (as in \"There is\")\n",
    "FW\tForeign word\ten route, déjà vu\n",
    "IN\tPreposition/Subordinating conjunction\tin, of, like\n",
    "JJ\tAdjective\tbig, yellow, amazing\n",
    "JJR\tAdjective, comparative\tbigger, better\n",
    "JJS\tAdjective, superlative\tbiggest, best\n",
    "LS\tList item marker\t1., A., a)\n",
    "MD\tModal\tcan, will, should\n",
    "NN\tNoun, singular or mass\tcat, table\n",
    "NNS\tNoun, plural\tcats, tables\n",
    "NNP\tProper noun, singular\tJohn, London\n",
    "NNPS\tProper noun, plural\tAmericas, Mondays\n",
    "PDT\tPredeterminer\tall, both, half\n",
    "POS\tPossessive ending\t’s, ’\n",
    "PRP\tPersonal pronoun\tI, you, he\n",
    "PRP$\tPossessive pronoun\tmy, your, his\n",
    "RB\tAdverb\tquickly, well\n",
    "RBR\tAdverb, comparative\tfaster, better\n",
    "RBS\tAdverb, superlative\tfastest, best\n",
    "RP\tParticle\tup, off\n",
    "SYM\tSymbol\t$, %, &, *\n",
    "TO\tto\tto (as in \"to go\")\n",
    "UH\tInterjection\toh, wow, yeah\n",
    "VB\tVerb, base form\trun, eat, go\n",
    "VBD\tVerb, past tense\tran, ate, went\n",
    "VBG\tVerb, gerund/present participle\trunning, eating\n",
    "VBN\tVerb, past participle\trun, eaten, gone\n",
    "VBP\tVerb, non-3rd person singular present\trun, eat\n",
    "VBZ\tVerb, 3rd person singular present\truns, eats\n",
    "WDT\tWh-determiner\twhich, that\n",
    "WP\tWh-pronoun\twho, what\n",
    "WP$\tPossessive wh-pronoun\twhose\n",
    "WRB\tWh-adverb\twhere, when, why"
   ]
  },
  {
   "cell_type": "code",
   "execution_count": 1,
   "id": "25ee10d8-5cdb-420a-a045-5b541851cf70",
   "metadata": {},
   "outputs": [],
   "source": [
    "paragraph = \"It was a cold winter morning, and the streets were covered with snow. The children were playing outside, even though the weather was freezing. A dog ran past them, barking loudly, as it chased after a squirrel. Meanwhile, an old man walked slowly down the road, leaning on his cane for support. He stopped occasionally to admire the snow-covered trees and houses. The smell of freshly baked bread wafted from a nearby bakery, enticing passersby. Some people hurried along the sidewalk, wrapped in warm coats and scarves. Others stood at the bus stop, waiting patiently for their ride.\""
   ]
  },
  {
   "cell_type": "code",
   "execution_count": 3,
   "id": "ebeacd8e-dec9-475b-aeb2-202c3fc181ca",
   "metadata": {},
   "outputs": [
    {
     "data": {
      "text/plain": [
       "['It was a cold winter morning, and the streets were covered with snow.',\n",
       " 'The children were playing outside, even though the weather was freezing.',\n",
       " 'A dog ran past them, barking loudly, as it chased after a squirrel.',\n",
       " 'Meanwhile, an old man walked slowly down the road, leaning on his cane for support.',\n",
       " 'He stopped occasionally to admire the snow-covered trees and houses.',\n",
       " 'The smell of freshly baked bread wafted from a nearby bakery, enticing passersby.',\n",
       " 'Some people hurried along the sidewalk, wrapped in warm coats and scarves.',\n",
       " 'Others stood at the bus stop, waiting patiently for their ride.']"
      ]
     },
     "execution_count": 3,
     "metadata": {},
     "output_type": "execute_result"
    }
   ],
   "source": [
    "import nltk\n",
    "sentences = nltk.sent_tokenize(paragraph)\n",
    "sentences"
   ]
  },
  {
   "cell_type": "code",
   "execution_count": 14,
   "id": "6443538c-334c-4ff4-9c9a-4ca0597ea07a",
   "metadata": {},
   "outputs": [
    {
     "name": "stderr",
     "output_type": "stream",
     "text": [
      "[nltk_data] Downloading package averaged_perceptron_tagger_eng to\n",
      "[nltk_data]     C:\\Users\\Ramcharan\\AppData\\Roaming\\nltk_data...\n",
      "[nltk_data]   Unzipping taggers\\averaged_perceptron_tagger_eng.zip.\n"
     ]
    },
    {
     "data": {
      "text/plain": [
       "True"
      ]
     },
     "execution_count": 14,
     "metadata": {},
     "output_type": "execute_result"
    }
   ],
   "source": [
    "nltk.download('averaged_perceptron_tagger_eng')"
   ]
  },
  {
   "cell_type": "code",
   "execution_count": 18,
   "id": "130cfebd-e684-4caa-a6be-6651072a1c92",
   "metadata": {},
   "outputs": [
    {
     "name": "stdout",
     "output_type": "stream",
     "text": [
      "[('It', 'PRP'), ('cold', 'VBD'), ('winter', 'NN'), ('morning', 'NN'), (',', ','), ('streets', 'NNS'), ('covered', 'VBD'), ('snow', 'NN'), ('.', '.')] [('The', 'DT'), ('children', 'NNS'), ('playing', 'VBG'), ('outside', 'NN'), (',', ','), ('even', 'RB'), ('though', 'IN'), ('weather', 'NN'), ('freezing', 'NN'), ('.', '.')] [('A', 'DT'), ('dog', 'NN'), ('ran', 'VBD'), ('past', 'RB'), (',', ','), ('barking', 'VBG'), ('loudly', 'RB'), (',', ','), ('chased', 'VBD'), ('squirrel', 'NN'), ('.', '.')] [('Meanwhile', 'RB'), (',', ','), ('old', 'JJ'), ('man', 'NN'), ('walked', 'VBD'), ('slowly', 'RB'), ('road', 'NN'), (',', ','), ('leaning', 'VBG'), ('cane', 'NN'), ('support', 'NN'), ('.', '.')] [('He', 'PRP'), ('stopped', 'VBD'), ('occasionally', 'RB'), ('admire', 'JJ'), ('snow-covered', 'JJ'), ('trees', 'NNS'), ('houses', 'NNS'), ('.', '.')] [('The', 'DT'), ('smell', 'NN'), ('freshly', 'RB'), ('baked', 'VBN'), ('bread', 'NN'), ('wafted', 'VBD'), ('nearby', 'JJ'), ('bakery', 'NN'), (',', ','), ('enticing', 'VBG'), ('passersby', 'NN'), ('.', '.')] [('Some', 'DT'), ('people', 'NNS'), ('hurried', 'VBN'), ('along', 'IN'), ('sidewalk', 'NN'), (',', ','), ('wrapped', 'VBD'), ('warm', 'JJ'), ('coats', 'NN'), ('scarves', 'NNS'), ('.', '.')] [('Others', 'NNS'), ('stood', 'VBD'), ('bus', 'JJ'), ('stop', 'NN'), (',', ','), ('waiting', 'VBG'), ('patiently', 'RB'), ('ride', 'NN'), ('.', '.')] "
     ]
    }
   ],
   "source": [
    "from nltk.corpus import stopwords\n",
    "for i in range(len(sentences)):\n",
    "    words = nltk.word_tokenize(sentences[i])\n",
    "    words = [word for word in words if word not in set(stopwords.words('english'))]\n",
    "    tags = nltk.pos_tag(words)\n",
    "    print(tags, end=' ')"
   ]
  },
  {
   "cell_type": "code",
   "execution_count": 24,
   "id": "426531c6-c82f-4c32-ae9b-a53f0821fc71",
   "metadata": {},
   "outputs": [],
   "source": [
    "sentence = \"The cat sat on the mat and looked out of the window.\".split()"
   ]
  },
  {
   "cell_type": "code",
   "execution_count": 26,
   "id": "c50c4f90-eb83-4432-8712-78ed7ace5f8c",
   "metadata": {},
   "outputs": [
    {
     "data": {
      "text/plain": [
       "['The',\n",
       " 'cat',\n",
       " 'sat',\n",
       " 'on',\n",
       " 'the',\n",
       " 'mat',\n",
       " 'and',\n",
       " 'looked',\n",
       " 'out',\n",
       " 'of',\n",
       " 'the',\n",
       " 'window.']"
      ]
     },
     "execution_count": 26,
     "metadata": {},
     "output_type": "execute_result"
    }
   ],
   "source": [
    "sentence"
   ]
  },
  {
   "cell_type": "code",
   "execution_count": 28,
   "id": "dc908906-bd94-4889-a813-1aa408518c03",
   "metadata": {},
   "outputs": [
    {
     "name": "stdout",
     "output_type": "stream",
     "text": [
      "[('The', 'DT'), ('cat', 'NN'), ('sat', 'VBD'), ('on', 'IN'), ('the', 'DT'), ('mat', 'NN'), ('and', 'CC'), ('looked', 'VBD'), ('out', 'IN'), ('of', 'IN'), ('the', 'DT'), ('window.', 'NN')]\n"
     ]
    }
   ],
   "source": [
    "print(nltk.pos_tag(sentence))"
   ]
  },
  {
   "cell_type": "code",
   "execution_count": null,
   "id": "5fbfed90-2a03-4edf-93b0-5dc7cf98dfb6",
   "metadata": {},
   "outputs": [],
   "source": []
  }
 ],
 "metadata": {
  "kernelspec": {
   "display_name": "Python 3 (ipykernel)",
   "language": "python",
   "name": "python3"
  },
  "language_info": {
   "codemirror_mode": {
    "name": "ipython",
    "version": 3
   },
   "file_extension": ".py",
   "mimetype": "text/x-python",
   "name": "python",
   "nbconvert_exporter": "python",
   "pygments_lexer": "ipython3",
   "version": "3.12.7"
  }
 },
 "nbformat": 4,
 "nbformat_minor": 5
}
