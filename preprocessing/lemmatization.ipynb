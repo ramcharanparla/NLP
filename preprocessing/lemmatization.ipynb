{
 "cells": [
  {
   "cell_type": "markdown",
   "id": "af57579a-ec86-4c91-beb3-75654659e29d",
   "metadata": {},
   "source": [
    "### Wordnet Lemmatizer\n",
    "\n",
    "Lemmatization technique is like stemming. The output we wil get after lemmatization is called 'lemma'. which is a root word rather than root stem, the output of stemming. After lemmatization, we will be gettign a valid word that means the same thing.\n",
    "\n",
    "NLTK provides WordNetLemmatizer class which is a thin wrapper around the wordnet corpus. This class uses morphy() function to the WordNet CorpuReader class to find a lemma.\n",
    "\n",
    "##### use case: Q&A, chatbots, text summarization"
   ]
  },
  {
   "cell_type": "code",
   "execution_count": 10,
   "id": "e169dd90-5526-4b9e-b090-9bcc0209ef53",
   "metadata": {},
   "outputs": [
    {
     "name": "stderr",
     "output_type": "stream",
     "text": [
      "[nltk_data] Downloading package wordnet to\n",
      "[nltk_data]     C:\\Users\\Ramcharan\\AppData\\Roaming\\nltk_data...\n"
     ]
    },
    {
     "data": {
      "text/plain": [
       "True"
      ]
     },
     "execution_count": 10,
     "metadata": {},
     "output_type": "execute_result"
    }
   ],
   "source": [
    "import nltk\n",
    "nltk.download('wordnet')"
   ]
  },
  {
   "cell_type": "code",
   "execution_count": 11,
   "id": "85ece568-1e01-4412-ac0a-e2f9f4394f98",
   "metadata": {},
   "outputs": [],
   "source": [
    "from nltk.stem import WordNetLemmatizer"
   ]
  },
  {
   "cell_type": "code",
   "execution_count": 14,
   "id": "20b74129-215b-43bb-b29a-0e398e3c3569",
   "metadata": {},
   "outputs": [],
   "source": [
    "lemmatizer = WordNetLemmatizer()"
   ]
  },
  {
   "cell_type": "code",
   "execution_count": 16,
   "id": "26a5a54b-a68d-4062-8426-07263c0942db",
   "metadata": {},
   "outputs": [
    {
     "data": {
      "text/plain": [
       "'going'"
      ]
     },
     "execution_count": 16,
     "metadata": {},
     "output_type": "execute_result"
    }
   ],
   "source": [
    "lemmatizer.lemmatize('going')"
   ]
  },
  {
   "cell_type": "code",
   "execution_count": 18,
   "id": "5ff319fd-ecec-44bd-8f05-1e36956f85cd",
   "metadata": {},
   "outputs": [
    {
     "data": {
      "text/plain": [
       "'go'"
      ]
     },
     "execution_count": 18,
     "metadata": {},
     "output_type": "execute_result"
    }
   ],
   "source": [
    "'''\n",
    "POS - Noun - n\n",
    "Verb - v\n",
    "adjective - a\n",
    "adverb - r\n",
    "'''\n",
    "lemmatizer.lemmatize('going',pos='v')"
   ]
  },
  {
   "cell_type": "code",
   "execution_count": 20,
   "id": "79b7c29b-2559-40d3-aabc-3515d3328140",
   "metadata": {},
   "outputs": [],
   "source": [
    "words = [\"playing\", \"played\", \"plays\", \"runner\", \"running\", \"runs\", \"studying\", \"studied\", \"studies\", \"writes\", \"writing\", \"wrote\", \"cars\", \"car\", \"boxes\", \"box\", \"cities\", \"city\", \"child\", \"children\", \"dogs\", \"dog\", \"happier\", \"happiest\", \"happy\", \"stronger\", \"strongest\", \"strong\", \"beautiful\", \"beautify\", \"organization\", \"organize\", \"organizing\", \"quickly\", \"quick\", \"criticized\", \"criticize\", \"criticizing\", \"amazing\", \"amazingly\"]"
   ]
  },
  {
   "cell_type": "code",
   "execution_count": 24,
   "id": "0324483a-cb40-45e7-a298-1b0f00370209",
   "metadata": {},
   "outputs": [
    {
     "name": "stdout",
     "output_type": "stream",
     "text": [
      "playing--->playing\n",
      "played--->played\n",
      "plays--->play\n",
      "runner--->runner\n",
      "running--->running\n",
      "runs--->run\n",
      "studying--->studying\n",
      "studied--->studied\n",
      "studies--->study\n",
      "writes--->writes\n",
      "writing--->writing\n",
      "wrote--->wrote\n",
      "cars--->car\n",
      "car--->car\n",
      "boxes--->box\n",
      "box--->box\n",
      "cities--->city\n",
      "city--->city\n",
      "child--->child\n",
      "children--->child\n",
      "dogs--->dog\n",
      "dog--->dog\n",
      "happier--->happier\n",
      "happiest--->happiest\n",
      "happy--->happy\n",
      "stronger--->stronger\n",
      "strongest--->strongest\n",
      "strong--->strong\n",
      "beautiful--->beautiful\n",
      "beautify--->beautify\n",
      "organization--->organization\n",
      "organize--->organize\n",
      "organizing--->organizing\n",
      "quickly--->quickly\n",
      "quick--->quick\n",
      "criticized--->criticized\n",
      "criticize--->criticize\n",
      "criticizing--->criticizing\n",
      "amazing--->amazing\n",
      "amazingly--->amazingly\n"
     ]
    }
   ],
   "source": [
    "for word in words:\n",
    "    print(word+\"--->\"+lemmatizer.lemmatize(word,pos='n'))"
   ]
  },
  {
   "cell_type": "code",
   "execution_count": 26,
   "id": "c46dd1fb-6ac4-42ac-bd14-eafdc42e95f8",
   "metadata": {},
   "outputs": [
    {
     "name": "stdout",
     "output_type": "stream",
     "text": [
      "playing--->play\n",
      "played--->play\n",
      "plays--->play\n",
      "runner--->runner\n",
      "running--->run\n",
      "runs--->run\n",
      "studying--->study\n",
      "studied--->study\n",
      "studies--->study\n",
      "writes--->write\n",
      "writing--->write\n",
      "wrote--->write\n",
      "cars--->cars\n",
      "car--->car\n",
      "boxes--->box\n",
      "box--->box\n",
      "cities--->cities\n",
      "city--->city\n",
      "child--->child\n",
      "children--->children\n",
      "dogs--->dog\n",
      "dog--->dog\n",
      "happier--->happier\n",
      "happiest--->happiest\n",
      "happy--->happy\n",
      "stronger--->stronger\n",
      "strongest--->strongest\n",
      "strong--->strong\n",
      "beautiful--->beautiful\n",
      "beautify--->beautify\n",
      "organization--->organization\n",
      "organize--->organize\n",
      "organizing--->organize\n",
      "quickly--->quickly\n",
      "quick--->quick\n",
      "criticized--->criticize\n",
      "criticize--->criticize\n",
      "criticizing--->criticize\n",
      "amazing--->amaze\n",
      "amazingly--->amazingly\n"
     ]
    }
   ],
   "source": [
    "for word in words:\n",
    "    print(word+\"--->\"+lemmatizer.lemmatize(word,pos='v'))"
   ]
  },
  {
   "cell_type": "code",
   "execution_count": 28,
   "id": "a3fe2157-d1fa-409a-a64b-d1d3dc2f7430",
   "metadata": {},
   "outputs": [
    {
     "data": {
      "text/plain": [
       "'go'"
      ]
     },
     "execution_count": 28,
     "metadata": {},
     "output_type": "execute_result"
    }
   ],
   "source": [
    "lemmatizer.lemmatize(\"goes\")"
   ]
  },
  {
   "cell_type": "code",
   "execution_count": 34,
   "id": "64a31893-8965-4382-a38c-e9db7fc10a5f",
   "metadata": {},
   "outputs": [
    {
     "data": {
      "text/plain": [
       "('fairly', 'sportingly')"
      ]
     },
     "execution_count": 34,
     "metadata": {},
     "output_type": "execute_result"
    }
   ],
   "source": [
    "lemmatizer.lemmatize(\"fairly\",pos='a'), lemmatizer.lemmatize(\"sportingly\")"
   ]
  },
  {
   "cell_type": "markdown",
   "id": "555daf5d-2336-4b2b-9322-44e387ebcf42",
   "metadata": {},
   "source": [
    "##### wordnet lemmatize will take more time because it will check the grammetical words within wordner corpus"
   ]
  },
  {
   "cell_type": "code",
   "execution_count": null,
   "id": "75ad26a0-4af5-4124-ac90-9184a8a42ae5",
   "metadata": {},
   "outputs": [],
   "source": []
  }
 ],
 "metadata": {
  "kernelspec": {
   "display_name": "Python 3 (ipykernel)",
   "language": "python",
   "name": "python3"
  },
  "language_info": {
   "codemirror_mode": {
    "name": "ipython",
    "version": 3
   },
   "file_extension": ".py",
   "mimetype": "text/x-python",
   "name": "python",
   "nbconvert_exporter": "python",
   "pygments_lexer": "ipython3",
   "version": "3.12.7"
  }
 },
 "nbformat": 4,
 "nbformat_minor": 5
}
