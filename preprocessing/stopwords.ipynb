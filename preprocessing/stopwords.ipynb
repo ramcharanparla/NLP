{
 "cells": [
  {
   "cell_type": "code",
   "execution_count": 1,
   "id": "4ad5cf5b-f679-4a48-a894-51646c1af1f9",
   "metadata": {},
   "outputs": [],
   "source": [
    "paragraph = \"It was a cold winter morning, and the streets were covered with snow. The children were playing outside, even though the weather was freezing. A dog ran past them, barking loudly, as it chased after a squirrel. Meanwhile, an old man walked slowly down the road, leaning on his cane for support. He stopped occasionally to admire the snow-covered trees and houses. The smell of freshly baked bread wafted from a nearby bakery, enticing passersby. Some people hurried along the sidewalk, wrapped in warm coats and scarves. Others stood at the bus stop, waiting patiently for their ride.\""
   ]
  },
  {
   "cell_type": "code",
   "execution_count": 18,
   "id": "17603794-86ad-41b7-9b75-d2a167a63587",
   "metadata": {},
   "outputs": [],
   "source": [
    "from nltk.stem import PorterStemmer"
   ]
  },
  {
   "cell_type": "code",
   "execution_count": 28,
   "id": "dbb85bb9-a478-4b22-ab25-214e48ce4ec2",
   "metadata": {},
   "outputs": [],
   "source": [
    "from nltk.corpus import stopwords"
   ]
  },
  {
   "cell_type": "code",
   "execution_count": 24,
   "id": "12d38498-c990-43ec-b5d5-a7215806f2d7",
   "metadata": {},
   "outputs": [
    {
     "name": "stderr",
     "output_type": "stream",
     "text": [
      "[nltk_data] Downloading package stopwords to\n",
      "[nltk_data]     C:\\Users\\Ramcharan\\AppData\\Roaming\\nltk_data...\n",
      "[nltk_data]   Package stopwords is already up-to-date!\n"
     ]
    },
    {
     "data": {
      "text/plain": [
       "True"
      ]
     },
     "execution_count": 24,
     "metadata": {},
     "output_type": "execute_result"
    }
   ],
   "source": [
    "import nltk\n",
    "nltk.download('stopwords')"
   ]
  },
  {
   "cell_type": "code",
   "execution_count": 32,
   "id": "798f2828-6a74-4fbe-9f1a-f11a2c26a807",
   "metadata": {
    "scrolled": true
   },
   "outputs": [
    {
     "data": {
      "text/plain": [
       "['i',\n",
       " 'me',\n",
       " 'my',\n",
       " 'myself',\n",
       " 'we',\n",
       " 'our',\n",
       " 'ours',\n",
       " 'ourselves',\n",
       " 'you',\n",
       " \"you're\",\n",
       " \"you've\",\n",
       " \"you'll\",\n",
       " \"you'd\",\n",
       " 'your',\n",
       " 'yours',\n",
       " 'yourself',\n",
       " 'yourselves',\n",
       " 'he',\n",
       " 'him',\n",
       " 'his',\n",
       " 'himself',\n",
       " 'she',\n",
       " \"she's\",\n",
       " 'her',\n",
       " 'hers',\n",
       " 'herself',\n",
       " 'it',\n",
       " \"it's\",\n",
       " 'its',\n",
       " 'itself',\n",
       " 'they',\n",
       " 'them',\n",
       " 'their',\n",
       " 'theirs',\n",
       " 'themselves',\n",
       " 'what',\n",
       " 'which',\n",
       " 'who',\n",
       " 'whom',\n",
       " 'this',\n",
       " 'that',\n",
       " \"that'll\",\n",
       " 'these',\n",
       " 'those',\n",
       " 'am',\n",
       " 'is',\n",
       " 'are',\n",
       " 'was',\n",
       " 'were',\n",
       " 'be',\n",
       " 'been',\n",
       " 'being',\n",
       " 'have',\n",
       " 'has',\n",
       " 'had',\n",
       " 'having',\n",
       " 'do',\n",
       " 'does',\n",
       " 'did',\n",
       " 'doing',\n",
       " 'a',\n",
       " 'an',\n",
       " 'the',\n",
       " 'and',\n",
       " 'but',\n",
       " 'if',\n",
       " 'or',\n",
       " 'because',\n",
       " 'as',\n",
       " 'until',\n",
       " 'while',\n",
       " 'of',\n",
       " 'at',\n",
       " 'by',\n",
       " 'for',\n",
       " 'with',\n",
       " 'about',\n",
       " 'against',\n",
       " 'between',\n",
       " 'into',\n",
       " 'through',\n",
       " 'during',\n",
       " 'before',\n",
       " 'after',\n",
       " 'above',\n",
       " 'below',\n",
       " 'to',\n",
       " 'from',\n",
       " 'up',\n",
       " 'down',\n",
       " 'in',\n",
       " 'out',\n",
       " 'on',\n",
       " 'off',\n",
       " 'over',\n",
       " 'under',\n",
       " 'again',\n",
       " 'further',\n",
       " 'then',\n",
       " 'once',\n",
       " 'here',\n",
       " 'there',\n",
       " 'when',\n",
       " 'where',\n",
       " 'why',\n",
       " 'how',\n",
       " 'all',\n",
       " 'any',\n",
       " 'both',\n",
       " 'each',\n",
       " 'few',\n",
       " 'more',\n",
       " 'most',\n",
       " 'other',\n",
       " 'some',\n",
       " 'such',\n",
       " 'no',\n",
       " 'nor',\n",
       " 'not',\n",
       " 'only',\n",
       " 'own',\n",
       " 'same',\n",
       " 'so',\n",
       " 'than',\n",
       " 'too',\n",
       " 'very',\n",
       " 's',\n",
       " 't',\n",
       " 'can',\n",
       " 'will',\n",
       " 'just',\n",
       " 'don',\n",
       " \"don't\",\n",
       " 'should',\n",
       " \"should've\",\n",
       " 'now',\n",
       " 'd',\n",
       " 'll',\n",
       " 'm',\n",
       " 'o',\n",
       " 're',\n",
       " 've',\n",
       " 'y',\n",
       " 'ain',\n",
       " 'aren',\n",
       " \"aren't\",\n",
       " 'couldn',\n",
       " \"couldn't\",\n",
       " 'didn',\n",
       " \"didn't\",\n",
       " 'doesn',\n",
       " \"doesn't\",\n",
       " 'hadn',\n",
       " \"hadn't\",\n",
       " 'hasn',\n",
       " \"hasn't\",\n",
       " 'haven',\n",
       " \"haven't\",\n",
       " 'isn',\n",
       " \"isn't\",\n",
       " 'ma',\n",
       " 'mightn',\n",
       " \"mightn't\",\n",
       " 'mustn',\n",
       " \"mustn't\",\n",
       " 'needn',\n",
       " \"needn't\",\n",
       " 'shan',\n",
       " \"shan't\",\n",
       " 'shouldn',\n",
       " \"shouldn't\",\n",
       " 'wasn',\n",
       " \"wasn't\",\n",
       " 'weren',\n",
       " \"weren't\",\n",
       " 'won',\n",
       " \"won't\",\n",
       " 'wouldn',\n",
       " \"wouldn't\"]"
      ]
     },
     "execution_count": 32,
     "metadata": {},
     "output_type": "execute_result"
    }
   ],
   "source": [
    "stopwords.words('english')"
   ]
  },
  {
   "cell_type": "code",
   "execution_count": 46,
   "id": "692aeeff-ebe8-4934-8036-028420dc2493",
   "metadata": {},
   "outputs": [],
   "source": [
    "from nltk.stem import PorterStemmer\n",
    "stemmer = PorterStemmer()"
   ]
  },
  {
   "cell_type": "code",
   "execution_count": 48,
   "id": "55ecdf99-9030-4731-a252-be01e3bf8d17",
   "metadata": {},
   "outputs": [],
   "source": [
    "sentences = nltk.sent_tokenize(paragraph)"
   ]
  },
  {
   "cell_type": "code",
   "execution_count": 50,
   "id": "05b4384b-edb7-4935-ae08-39dce4ee6d8c",
   "metadata": {},
   "outputs": [
    {
     "data": {
      "text/plain": [
       "['It was a cold winter morning, and the streets were covered with snow.',\n",
       " 'The children were playing outside, even though the weather was freezing.',\n",
       " 'A dog ran past them, barking loudly, as it chased after a squirrel.',\n",
       " 'Meanwhile, an old man walked slowly down the road, leaning on his cane for support.',\n",
       " 'He stopped occasionally to admire the snow-covered trees and houses.',\n",
       " 'The smell of freshly baked bread wafted from a nearby bakery, enticing passersby.',\n",
       " 'Some people hurried along the sidewalk, wrapped in warm coats and scarves.',\n",
       " 'Others stood at the bus stop, waiting patiently for their ride.']"
      ]
     },
     "execution_count": 50,
     "metadata": {},
     "output_type": "execute_result"
    }
   ],
   "source": [
    "sentences"
   ]
  },
  {
   "cell_type": "code",
   "execution_count": 52,
   "id": "e9321f57-67b4-4c1b-b9d3-758c0eabe315",
   "metadata": {},
   "outputs": [],
   "source": [
    "# apply stopwords and filter and then apply stemming\n",
    "\n",
    "for i in range(len(sentences)):\n",
    "    words = nltk.word_tokenize(sentences[i])\n",
    "    words = [stemmer.stem(word) for word in words if word not in set(stopwords.words('english'))]\n",
    "    sentences[i] =' '.join(words)"
   ]
  },
  {
   "cell_type": "code",
   "execution_count": 54,
   "id": "78251778-08a0-4c19-b4e7-f8039d2bea5e",
   "metadata": {},
   "outputs": [
    {
     "data": {
      "text/plain": [
       "['it cold winter morn , street cover snow .',\n",
       " 'the children play outsid , even though weather freez .',\n",
       " 'a dog ran past , bark loudli , chase squirrel .',\n",
       " 'meanwhil , old man walk slowli road , lean cane support .',\n",
       " 'he stop occasion admir snow-cov tree hous .',\n",
       " 'the smell freshli bake bread waft nearbi bakeri , entic passersbi .',\n",
       " 'some peopl hurri along sidewalk , wrap warm coat scarv .',\n",
       " 'other stood bu stop , wait patient ride .']"
      ]
     },
     "execution_count": 54,
     "metadata": {},
     "output_type": "execute_result"
    }
   ],
   "source": [
    "sentences"
   ]
  },
  {
   "cell_type": "code",
   "execution_count": null,
   "id": "aefbe2c9-12da-4acd-945a-af6f1429850b",
   "metadata": {},
   "outputs": [],
   "source": []
  },
  {
   "cell_type": "markdown",
   "id": "6e61bcd5-9be3-4947-bbd6-ac2ba64509f9",
   "metadata": {},
   "source": [
    "#### snowball stemming"
   ]
  },
  {
   "cell_type": "code",
   "execution_count": 57,
   "id": "b5046aee-50eb-4922-90bf-8fc0c30ccde8",
   "metadata": {},
   "outputs": [
    {
     "data": {
      "text/plain": [
       "['It was a cold winter morning, and the streets were covered with snow.',\n",
       " 'The children were playing outside, even though the weather was freezing.',\n",
       " 'A dog ran past them, barking loudly, as it chased after a squirrel.',\n",
       " 'Meanwhile, an old man walked slowly down the road, leaning on his cane for support.',\n",
       " 'He stopped occasionally to admire the snow-covered trees and houses.',\n",
       " 'The smell of freshly baked bread wafted from a nearby bakery, enticing passersby.',\n",
       " 'Some people hurried along the sidewalk, wrapped in warm coats and scarves.',\n",
       " 'Others stood at the bus stop, waiting patiently for their ride.']"
      ]
     },
     "execution_count": 57,
     "metadata": {},
     "output_type": "execute_result"
    }
   ],
   "source": [
    "sentences = nltk.sent_tokenize(paragraph)\n",
    "sentences"
   ]
  },
  {
   "cell_type": "code",
   "execution_count": 61,
   "id": "ee2a871a-d877-4d65-97b4-525e2a6d5ef8",
   "metadata": {},
   "outputs": [],
   "source": [
    "from nltk.stem import SnowballStemmer\n",
    "snowball_stemmer = SnowballStemmer('english')"
   ]
  },
  {
   "cell_type": "code",
   "execution_count": 69,
   "id": "d6fc7740-7cd0-4041-b26c-038980f15da5",
   "metadata": {},
   "outputs": [],
   "source": [
    "for i in range(len(sentences)):\n",
    "    words = nltk.word_tokenize(sentences[i])\n",
    "    words = [snowball_stemmer.stem(word) for word in words if word not in set(stopwords.words('english'))]\n",
    "    sentences[i] = ' '.join(words)"
   ]
  },
  {
   "cell_type": "code",
   "execution_count": 71,
   "id": "621839d8-fd4f-4e5a-9eb4-d38d774e3f58",
   "metadata": {},
   "outputs": [
    {
     "data": {
      "text/plain": [
       "['it cold winter morn , street cover snow .',\n",
       " 'the children play outsid , even though weather freez .',\n",
       " 'a dog ran past , bark loud , chase squirrel .',\n",
       " 'meanwhil , old man walk slowli road , lean cane support .',\n",
       " 'he stop occasion admir snow-cov tree hous .',\n",
       " 'the smell fresh bake bread waft nearbi bakeri , entic passersbi .',\n",
       " 'some peopl hurri along sidewalk , wrap warm coat scarv .',\n",
       " 'other stood bus stop , wait patient ride .']"
      ]
     },
     "execution_count": 71,
     "metadata": {},
     "output_type": "execute_result"
    }
   ],
   "source": [
    "sentences"
   ]
  },
  {
   "cell_type": "code",
   "execution_count": null,
   "id": "15557e56-39b7-4dc4-af11-65b6c5415f8f",
   "metadata": {},
   "outputs": [],
   "source": []
  },
  {
   "cell_type": "markdown",
   "id": "97cf6aba-d4ab-47fb-803f-24aa2e4ad313",
   "metadata": {},
   "source": [
    "#### lemmatization"
   ]
  },
  {
   "cell_type": "code",
   "execution_count": 125,
   "id": "2ee18581-f30a-45e3-9b7a-77d89a08d83c",
   "metadata": {},
   "outputs": [
    {
     "data": {
      "text/plain": [
       "['It was a cold winter morning, and the streets were covered with snow.',\n",
       " 'The children were playing outside, even though the weather was freezing.',\n",
       " 'A dog ran past them, barking loudly, as it chased after a squirrel.',\n",
       " 'Meanwhile, an old man walked slowly down the road, leaning on his cane for support.',\n",
       " 'He stopped occasionally to admire the snow-covered trees and houses.',\n",
       " 'The smell of freshly baked bread wafted from a nearby bakery, enticing passersby.',\n",
       " 'Some people hurried along the sidewalk, wrapped in warm coats and scarves.',\n",
       " 'Others stood at the bus stop, waiting patiently for their ride.']"
      ]
     },
     "execution_count": 125,
     "metadata": {},
     "output_type": "execute_result"
    }
   ],
   "source": [
    "sentences = nltk.sent_tokenize(paragraph)\n",
    "sentences"
   ]
  },
  {
   "cell_type": "code",
   "execution_count": 107,
   "id": "623e15e3-9056-41ce-b6f3-ad6e39e12b8c",
   "metadata": {},
   "outputs": [],
   "source": [
    "from nltk.stem import WordNetLemmatizer\n",
    "lemmatizer = WordNetLemmatizer()"
   ]
  },
  {
   "cell_type": "code",
   "execution_count": 109,
   "id": "4623ffbc-099b-48a2-9fac-6e617edbbe64",
   "metadata": {},
   "outputs": [],
   "source": [
    "for i in range(len(sentences)):\n",
    "    words = nltk.word_tokenize(sentences[i])\n",
    "    words = [lemmatizer.lemmatize(word) for word in words if word not in set(stopwords.words('english'))]\n",
    "    sentences[i] = ' '.join(words)"
   ]
  },
  {
   "cell_type": "code",
   "execution_count": 111,
   "id": "98913be7-687b-4430-bcfe-37e0ac539d0c",
   "metadata": {},
   "outputs": [
    {
     "data": {
      "text/plain": [
       "['It cold winter morning , street covered snow .',\n",
       " 'The child playing outside , even though weather freezing .',\n",
       " 'A dog ran past , barking loudly , chased squirrel .',\n",
       " 'Meanwhile , old man walked slowly road , leaning cane support .',\n",
       " 'He stopped occasionally admire snow-covered tree house .',\n",
       " 'The smell freshly baked bread wafted nearby bakery , enticing passersby .',\n",
       " 'Some people hurried along sidewalk , wrapped warm coat scarf .',\n",
       " 'Others stood bus stop , waiting patiently ride .']"
      ]
     },
     "execution_count": 111,
     "metadata": {},
     "output_type": "execute_result"
    }
   ],
   "source": [
    "sentences"
   ]
  },
  {
   "cell_type": "code",
   "execution_count": 131,
   "id": "af3a2829-ce51-40f8-8460-57e745ace874",
   "metadata": {},
   "outputs": [],
   "source": [
    "for i in range(len(sentences)):\n",
    "    #sentences[i] = sentences[i].lower()\n",
    "    words = nltk.word_tokenize(sentences[i])\n",
    "    words = [lemmatizer.lemmatize(word.lower(), pos='v') for word in words if word not in set(stopwords.words('english'))]\n",
    "    sentences[i] = ' '.join(words)"
   ]
  },
  {
   "cell_type": "code",
   "execution_count": 133,
   "id": "847ea78d-f7ce-486f-8246-baa4d6f410cf",
   "metadata": {},
   "outputs": [
    {
     "data": {
      "text/plain": [
       "['it cold winter morning , streets cover snow .',\n",
       " 'the children play outside , even though weather freeze .',\n",
       " 'a dog run past , bark loudly , chase squirrel .',\n",
       " 'meanwhile , old man walk slowly road , lean cane support .',\n",
       " 'he stop occasionally admire snow-covered tree house .',\n",
       " 'the smell freshly bake bread waft nearby bakery , entice passersby .',\n",
       " 'some people hurry along sidewalk , wrap warm coat scarves .',\n",
       " 'others stand bus stop , wait patiently ride .']"
      ]
     },
     "execution_count": 133,
     "metadata": {},
     "output_type": "execute_result"
    }
   ],
   "source": [
    "sentences"
   ]
  },
  {
   "cell_type": "code",
   "execution_count": null,
   "id": "a9566a29-1499-4914-b2b8-021c2aacfc34",
   "metadata": {},
   "outputs": [],
   "source": []
  }
 ],
 "metadata": {
  "kernelspec": {
   "display_name": "Python 3 (ipykernel)",
   "language": "python",
   "name": "python3"
  },
  "language_info": {
   "codemirror_mode": {
    "name": "ipython",
    "version": 3
   },
   "file_extension": ".py",
   "mimetype": "text/x-python",
   "name": "python",
   "nbconvert_exporter": "python",
   "pygments_lexer": "ipython3",
   "version": "3.12.7"
  }
 },
 "nbformat": 4,
 "nbformat_minor": 5
}
